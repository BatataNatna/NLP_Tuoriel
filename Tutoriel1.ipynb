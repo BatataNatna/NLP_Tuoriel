{
 "cells": [
  {
   "cell_type": "markdown",
   "metadata": {},
   "source": [
    "# TP1"
   ]
  },
  {
   "cell_type": "markdown",
   "metadata": {},
   "source": [
    "## Import des bibliothèques \n"
   ]
  },
  {
   "cell_type": "code",
   "execution_count": 1,
   "metadata": {},
   "outputs": [],
   "source": [
    "#!python -m spacy download fr_core_news_sm\n",
    "#!pip install torch \n",
    "\n",
    "#Import des bibliothèques\n",
    "import spacy\n"
   ]
  },
  {
   "cell_type": "markdown",
   "metadata": {},
   "source": [
    "## Initialisation du premier message "
   ]
  },
  {
   "cell_type": "code",
   "execution_count": 8,
   "metadata": {},
   "outputs": [],
   "source": [
    "nlp = spacy.load(\"fr_core_news_sm\")\n",
    "test = \"Bouygues a eu une coupure de réseau à Marseille\""
   ]
  },
  {
   "cell_type": "markdown",
   "metadata": {},
   "source": [
    "## 1- Tokenisation: \n",
    "\n",
    "**Qui veut dire en gros segmentation du texte en plusieurs parties appelées tokens**\n",
    "\n",
    "La tokenisation cherche à transformer un texte en une série de tokens individuels. Dans\n",
    "l’idée, chaque token représente un mot, et identifier des mots semble être une tâche\n",
    "\n",
    "relativement simple. Mais comment gérer des exemples tels que: « J’ai froid ». Il faut que le\n",
    "modèle de tokenisation sépare le « J' » comme étant un premier mot.\n",
    "SpaCy offre une fonctionnalité de tokenisation en utilisant la fonction nlp. Cette fonction est\n",
    "le point d’entrée vers toutes les fonctionnalités de SpaCy. Il sert à représenter le texte sous\n",
    "une forme interprétable par la librairie."
   ]
  },
  {
   "cell_type": "code",
   "execution_count": 9,
   "metadata": {},
   "outputs": [],
   "source": [
    "def return_token(sentence):\n",
    "    # Tokeniser la phrase\n",
    "    doc = nlp(sentence)\n",
    "    # Retourner le texte de chaque token\n",
    "    return [X.text for X in doc]"
   ]
  },
  {
   "cell_type": "markdown",
   "metadata": {},
   "source": [
    "**Application sur la phrase**"
   ]
  },
  {
   "cell_type": "code",
   "execution_count": 10,
   "metadata": {},
   "outputs": [
    {
     "data": {
      "text/plain": [
       "['Bouygues', 'a', 'eu', 'une', 'coupure', 'de', 'réseau', 'à', 'Marseille']"
      ]
     },
     "execution_count": 10,
     "metadata": {},
     "output_type": "execute_result"
    }
   ],
   "source": [
    "return_token(test)\n",
    "['Bouygues', 'a', 'eu', 'une', 'coupure', 'de', 'réseau', 'à',\n",
    "'Marseille']"
   ]
  },
  {
   "cell_type": "markdown",
   "metadata": {},
   "source": [
    "## 2. Enlever les mots les plus fréquents"
   ]
  },
  {
   "cell_type": "code",
   "execution_count": 11,
   "metadata": {},
   "outputs": [
    {
     "data": {
      "text/plain": [
       "{'ai',\n",
       " 'aie',\n",
       " 'aient',\n",
       " 'aies',\n",
       " 'ait',\n",
       " 'as',\n",
       " 'au',\n",
       " 'aura',\n",
       " 'aurai',\n",
       " 'auraient',\n",
       " 'aurais'}"
      ]
     },
     "execution_count": 11,
     "metadata": {},
     "output_type": "execute_result"
    }
   ],
   "source": [
    "from nltk.corpus import stopwords\n",
    "stopWords = set(stopwords.words('french'))\n",
    "{'ai',\n",
    "'aie',\n",
    "'aient',\n",
    "'aies',\n",
    "'ait',\n",
    "'as',\n",
    "'au',\n",
    "'aura',\n",
    "'aurai',\n",
    "'auraient',\n",
    "'aurais',\n",
    "}"
   ]
  },
  {
   "cell_type": "code",
   "execution_count": 12,
   "metadata": {},
   "outputs": [],
   "source": [
    "clean_words = []\n",
    "for token in return_token(test):\n",
    "    if token not in stopWords:\n",
    "        clean_words.append(token)\n",
    "\n",
    "        clean_words\n",
    "        ['Bouygues', 'a', 'coupure', 'réseau', 'Marseille', '.']"
   ]
  },
  {
   "cell_type": "markdown",
   "metadata": {},
   "source": [
    "## 3. Tokenisation par phrases"
   ]
  },
  {
   "cell_type": "code",
   "execution_count": 13,
   "metadata": {},
   "outputs": [
    {
     "data": {
      "text/plain": [
       "['Bouygues a eu une coupure de réseau à Marseille.',\n",
       " 'La panne a affecté 300.000 utilisateurs.']"
      ]
     },
     "execution_count": 13,
     "metadata": {},
     "output_type": "execute_result"
    }
   ],
   "source": [
    "def return_token_sent(sentence):\n",
    "# Tokeniser la phrase\n",
    "\n",
    "    doc = nlp(sentence)\n",
    "    # Retourner le texte de chaque phrase\n",
    "    return [X.text for X in doc.sents]\n",
    "\n",
    "return_token_sent(\"Bouygues a eu une coupure de réseau à Marseille. La panne a affecté 300.000 utilisateurs.\")\n",
    "\n"
   ]
  },
  {
   "cell_type": "markdown",
   "metadata": {},
   "source": [
    "## 4. Stemming"
   ]
  },
  {
   "cell_type": "code",
   "execution_count": 14,
   "metadata": {},
   "outputs": [
    {
     "data": {
      "text/plain": [
       "['bouygu', 'a', 'eu', 'une', 'coupur', 'de', 'réseau', 'à', 'marseil']"
      ]
     },
     "execution_count": 14,
     "metadata": {},
     "output_type": "execute_result"
    }
   ],
   "source": [
    "from nltk.stem.snowball import SnowballStemmer\n",
    "\n",
    "stemmer = SnowballStemmer(language='french')\n",
    "\n",
    "def return_stem(sentence):\n",
    "    doc = nlp(sentence)\n",
    "    return [stemmer.stem(X.text) for X in doc]\n",
    "\n",
    "\n",
    "return_stem(test)"
   ]
  },
  {
   "cell_type": "markdown",
   "metadata": {},
   "source": [
    "## 5. Reconnaissance d’entités nommées (NER)"
   ]
  },
  {
   "cell_type": "code",
   "execution_count": 15,
   "metadata": {},
   "outputs": [
    {
     "data": {
      "text/plain": [
       "[('Bouygues', 'ORG'), ('Marseille', 'LOC')]"
      ]
     },
     "execution_count": 15,
     "metadata": {},
     "output_type": "execute_result"
    }
   ],
   "source": [
    "def return_NER(sentence):\n",
    "    # Tokeniser la phrase\n",
    "    doc = nlp(sentence)\n",
    "    # Retourner le texte et le label pour chaque entité\n",
    "    return [(X.text, X.label_) for X in doc.ents]\n",
    "\n",
    "return_NER(test)\n"
   ]
  },
  {
   "cell_type": "code",
   "execution_count": 16,
   "metadata": {},
   "outputs": [
    {
     "data": {
      "text/html": [
       "<span class=\"tex2jax_ignore\"><div class=\"entities\" style=\"line-height: 2.5; direction: ltr\">\n",
       "<mark class=\"entity\" style=\"background: #7aecec; padding: 0.45em 0.6em; margin: 0 0.25em; line-height: 1; border-radius: 0.35em;\">\n",
       "    Bouygues\n",
       "    <span style=\"font-size: 0.8em; font-weight: bold; line-height: 1; border-radius: 0.35em; vertical-align: middle; margin-left: 0.5rem\">ORG</span>\n",
       "</mark>\n",
       " a eu une coupure de réseau à \n",
       "<mark class=\"entity\" style=\"background: #ff9561; padding: 0.45em 0.6em; margin: 0 0.25em; line-height: 1; border-radius: 0.35em;\">\n",
       "    Marseille\n",
       "    <span style=\"font-size: 0.8em; font-weight: bold; line-height: 1; border-radius: 0.35em; vertical-align: middle; margin-left: 0.5rem\">LOC</span>\n",
       "</mark>\n",
       "</div></span>"
      ],
      "text/plain": [
       "<IPython.core.display.HTML object>"
      ]
     },
     "metadata": {},
     "output_type": "display_data"
    }
   ],
   "source": [
    "from spacy import displacy\n",
    "\n",
    "doc = nlp(test)\n",
    "displacy.render(doc, style=\"ent\", jupyter=True)"
   ]
  },
  {
   "cell_type": "code",
   "execution_count": 17,
   "metadata": {},
   "outputs": [
    {
     "data": {
      "text/html": [
       "<span class=\"tex2jax_ignore\"><div class=\"entities\" style=\"line-height: 2.5; direction: ltr\">\n",
       "<mark class=\"entity\" style=\"background: linear-gradient(90deg, #aa9cfc, #fc9ce7); padding: 0.45em 0.6em; margin: 0 0.25em; line-height: 1; border-radius: 0.35em;\">\n",
       "    Bouygues\n",
       "    <span style=\"font-size: 0.8em; font-weight: bold; line-height: 1; border-radius: 0.35em; vertical-align: middle; margin-left: 0.5rem\">ORG</span>\n",
       "</mark>\n",
       " a eu une coupure de réseau à Marseille</div></span>"
      ],
      "text/plain": [
       "<IPython.core.display.HTML object>"
      ]
     },
     "metadata": {},
     "output_type": "display_data"
    }
   ],
   "source": [
    "doc = nlp(test)\n",
    "colors = {\"ORG\": \"linear-gradient(90deg, #aa9cfc, #fc9ce7)\"}\n",
    "options = {\"ents\": [\"ORG\"], \"colors\": colors}\n",
    "\n",
    "displacy.render(doc, style=\"ent\", jupyter=True,\n",
    "options=options)"
   ]
  },
  {
   "cell_type": "markdown",
   "metadata": {},
   "source": [
    "## 6. L’étiquetage morpho-syntaxique"
   ]
  },
  {
   "cell_type": "code",
   "execution_count": 18,
   "metadata": {},
   "outputs": [
    {
     "name": "stderr",
     "output_type": "stream",
     "text": [
      "c:\\Users\\rymkm\\anaconda3\\Lib\\site-packages\\spacy\\displacy\\__init__.py:106: UserWarning: [W011] It looks like you're calling displacy.serve from within a Jupyter notebook or a similar environment. This likely means you're already running a local web server, so there's no need to make displaCy start another one. Instead, you should be able to replace displacy.serve with displacy.render to show the visualization.\n",
      "  warnings.warn(Warnings.W011)\n"
     ]
    },
    {
     "data": {
      "text/html": [
       "<span class=\"tex2jax_ignore\"><!DOCTYPE html>\n",
       "<html lang=\"fr\">\n",
       "    <head>\n",
       "        <title>displaCy</title>\n",
       "    </head>\n",
       "\n",
       "    <body style=\"font-size: 16px; font-family: -apple-system, BlinkMacSystemFont, 'Segoe UI', Helvetica, Arial, sans-serif, 'Apple Color Emoji', 'Segoe UI Emoji', 'Segoe UI Symbol'; padding: 4rem 2rem; direction: ltr\">\n",
       "<figure style=\"margin-bottom: 6rem\">\n",
       "<svg xmlns=\"http://www.w3.org/2000/svg\" xmlns:xlink=\"http://www.w3.org/1999/xlink\" xml:lang=\"fr\" id=\"bcd37d70a9774c4ba9557942d5b890e3-0\" class=\"displacy\" width=\"1625\" height=\"312.0\" direction=\"ltr\" style=\"max-width: none; height: 312.0px; color: #000000; background: #ffffff; font-family: Arial; direction: ltr\">\n",
       "<text class=\"displacy-token\" fill=\"currentColor\" text-anchor=\"middle\" y=\"222.0\">\n",
       "    <tspan class=\"displacy-word\" fill=\"currentColor\" x=\"50\">Bouygues</tspan>\n",
       "    <tspan class=\"displacy-tag\" dy=\"2em\" fill=\"currentColor\" x=\"50\">PROPN</tspan>\n",
       "</text>\n",
       "\n",
       "<text class=\"displacy-token\" fill=\"currentColor\" text-anchor=\"middle\" y=\"222.0\">\n",
       "    <tspan class=\"displacy-word\" fill=\"currentColor\" x=\"225\">a</tspan>\n",
       "    <tspan class=\"displacy-tag\" dy=\"2em\" fill=\"currentColor\" x=\"225\">AUX</tspan>\n",
       "</text>\n",
       "\n",
       "<text class=\"displacy-token\" fill=\"currentColor\" text-anchor=\"middle\" y=\"222.0\">\n",
       "    <tspan class=\"displacy-word\" fill=\"currentColor\" x=\"400\">eu</tspan>\n",
       "    <tspan class=\"displacy-tag\" dy=\"2em\" fill=\"currentColor\" x=\"400\">VERB</tspan>\n",
       "</text>\n",
       "\n",
       "<text class=\"displacy-token\" fill=\"currentColor\" text-anchor=\"middle\" y=\"222.0\">\n",
       "    <tspan class=\"displacy-word\" fill=\"currentColor\" x=\"575\">une</tspan>\n",
       "    <tspan class=\"displacy-tag\" dy=\"2em\" fill=\"currentColor\" x=\"575\">DET</tspan>\n",
       "</text>\n",
       "\n",
       "<text class=\"displacy-token\" fill=\"currentColor\" text-anchor=\"middle\" y=\"222.0\">\n",
       "    <tspan class=\"displacy-word\" fill=\"currentColor\" x=\"750\">coupure</tspan>\n",
       "    <tspan class=\"displacy-tag\" dy=\"2em\" fill=\"currentColor\" x=\"750\">NOUN</tspan>\n",
       "</text>\n",
       "\n",
       "<text class=\"displacy-token\" fill=\"currentColor\" text-anchor=\"middle\" y=\"222.0\">\n",
       "    <tspan class=\"displacy-word\" fill=\"currentColor\" x=\"925\">de</tspan>\n",
       "    <tspan class=\"displacy-tag\" dy=\"2em\" fill=\"currentColor\" x=\"925\">ADP</tspan>\n",
       "</text>\n",
       "\n",
       "<text class=\"displacy-token\" fill=\"currentColor\" text-anchor=\"middle\" y=\"222.0\">\n",
       "    <tspan class=\"displacy-word\" fill=\"currentColor\" x=\"1100\">réseau</tspan>\n",
       "    <tspan class=\"displacy-tag\" dy=\"2em\" fill=\"currentColor\" x=\"1100\">NOUN</tspan>\n",
       "</text>\n",
       "\n",
       "<text class=\"displacy-token\" fill=\"currentColor\" text-anchor=\"middle\" y=\"222.0\">\n",
       "    <tspan class=\"displacy-word\" fill=\"currentColor\" x=\"1275\">à</tspan>\n",
       "    <tspan class=\"displacy-tag\" dy=\"2em\" fill=\"currentColor\" x=\"1275\">ADP</tspan>\n",
       "</text>\n",
       "\n",
       "<text class=\"displacy-token\" fill=\"currentColor\" text-anchor=\"middle\" y=\"222.0\">\n",
       "    <tspan class=\"displacy-word\" fill=\"currentColor\" x=\"1450\">Marseille</tspan>\n",
       "    <tspan class=\"displacy-tag\" dy=\"2em\" fill=\"currentColor\" x=\"1450\">PROPN</tspan>\n",
       "</text>\n",
       "\n",
       "<g class=\"displacy-arrow\">\n",
       "    <path class=\"displacy-arc\" id=\"arrow-bcd37d70a9774c4ba9557942d5b890e3-0-0\" stroke-width=\"2px\" d=\"M70,177.0 C70,2.0 400.0,2.0 400.0,177.0\" fill=\"none\" stroke=\"currentColor\"/>\n",
       "    <text dy=\"1.25em\" style=\"font-size: 0.8em; letter-spacing: 1px\">\n",
       "        <textPath xlink:href=\"#arrow-bcd37d70a9774c4ba9557942d5b890e3-0-0\" class=\"displacy-label\" startOffset=\"50%\" side=\"left\" fill=\"currentColor\" text-anchor=\"middle\">nsubj</textPath>\n",
       "    </text>\n",
       "    <path class=\"displacy-arrowhead\" d=\"M70,179.0 L62,167.0 78,167.0\" fill=\"currentColor\"/>\n",
       "</g>\n",
       "\n",
       "<g class=\"displacy-arrow\">\n",
       "    <path class=\"displacy-arc\" id=\"arrow-bcd37d70a9774c4ba9557942d5b890e3-0-1\" stroke-width=\"2px\" d=\"M245,177.0 C245,89.5 395.0,89.5 395.0,177.0\" fill=\"none\" stroke=\"currentColor\"/>\n",
       "    <text dy=\"1.25em\" style=\"font-size: 0.8em; letter-spacing: 1px\">\n",
       "        <textPath xlink:href=\"#arrow-bcd37d70a9774c4ba9557942d5b890e3-0-1\" class=\"displacy-label\" startOffset=\"50%\" side=\"left\" fill=\"currentColor\" text-anchor=\"middle\">aux:tense</textPath>\n",
       "    </text>\n",
       "    <path class=\"displacy-arrowhead\" d=\"M245,179.0 L237,167.0 253,167.0\" fill=\"currentColor\"/>\n",
       "</g>\n",
       "\n",
       "<g class=\"displacy-arrow\">\n",
       "    <path class=\"displacy-arc\" id=\"arrow-bcd37d70a9774c4ba9557942d5b890e3-0-2\" stroke-width=\"2px\" d=\"M595,177.0 C595,89.5 745.0,89.5 745.0,177.0\" fill=\"none\" stroke=\"currentColor\"/>\n",
       "    <text dy=\"1.25em\" style=\"font-size: 0.8em; letter-spacing: 1px\">\n",
       "        <textPath xlink:href=\"#arrow-bcd37d70a9774c4ba9557942d5b890e3-0-2\" class=\"displacy-label\" startOffset=\"50%\" side=\"left\" fill=\"currentColor\" text-anchor=\"middle\">det</textPath>\n",
       "    </text>\n",
       "    <path class=\"displacy-arrowhead\" d=\"M595,179.0 L587,167.0 603,167.0\" fill=\"currentColor\"/>\n",
       "</g>\n",
       "\n",
       "<g class=\"displacy-arrow\">\n",
       "    <path class=\"displacy-arc\" id=\"arrow-bcd37d70a9774c4ba9557942d5b890e3-0-3\" stroke-width=\"2px\" d=\"M420,177.0 C420,2.0 750.0,2.0 750.0,177.0\" fill=\"none\" stroke=\"currentColor\"/>\n",
       "    <text dy=\"1.25em\" style=\"font-size: 0.8em; letter-spacing: 1px\">\n",
       "        <textPath xlink:href=\"#arrow-bcd37d70a9774c4ba9557942d5b890e3-0-3\" class=\"displacy-label\" startOffset=\"50%\" side=\"left\" fill=\"currentColor\" text-anchor=\"middle\">obj</textPath>\n",
       "    </text>\n",
       "    <path class=\"displacy-arrowhead\" d=\"M750.0,179.0 L758.0,167.0 742.0,167.0\" fill=\"currentColor\"/>\n",
       "</g>\n",
       "\n",
       "<g class=\"displacy-arrow\">\n",
       "    <path class=\"displacy-arc\" id=\"arrow-bcd37d70a9774c4ba9557942d5b890e3-0-4\" stroke-width=\"2px\" d=\"M945,177.0 C945,89.5 1095.0,89.5 1095.0,177.0\" fill=\"none\" stroke=\"currentColor\"/>\n",
       "    <text dy=\"1.25em\" style=\"font-size: 0.8em; letter-spacing: 1px\">\n",
       "        <textPath xlink:href=\"#arrow-bcd37d70a9774c4ba9557942d5b890e3-0-4\" class=\"displacy-label\" startOffset=\"50%\" side=\"left\" fill=\"currentColor\" text-anchor=\"middle\">case</textPath>\n",
       "    </text>\n",
       "    <path class=\"displacy-arrowhead\" d=\"M945,179.0 L937,167.0 953,167.0\" fill=\"currentColor\"/>\n",
       "</g>\n",
       "\n",
       "<g class=\"displacy-arrow\">\n",
       "    <path class=\"displacy-arc\" id=\"arrow-bcd37d70a9774c4ba9557942d5b890e3-0-5\" stroke-width=\"2px\" d=\"M770,177.0 C770,2.0 1100.0,2.0 1100.0,177.0\" fill=\"none\" stroke=\"currentColor\"/>\n",
       "    <text dy=\"1.25em\" style=\"font-size: 0.8em; letter-spacing: 1px\">\n",
       "        <textPath xlink:href=\"#arrow-bcd37d70a9774c4ba9557942d5b890e3-0-5\" class=\"displacy-label\" startOffset=\"50%\" side=\"left\" fill=\"currentColor\" text-anchor=\"middle\">nmod</textPath>\n",
       "    </text>\n",
       "    <path class=\"displacy-arrowhead\" d=\"M1100.0,179.0 L1108.0,167.0 1092.0,167.0\" fill=\"currentColor\"/>\n",
       "</g>\n",
       "\n",
       "<g class=\"displacy-arrow\">\n",
       "    <path class=\"displacy-arc\" id=\"arrow-bcd37d70a9774c4ba9557942d5b890e3-0-6\" stroke-width=\"2px\" d=\"M1295,177.0 C1295,89.5 1445.0,89.5 1445.0,177.0\" fill=\"none\" stroke=\"currentColor\"/>\n",
       "    <text dy=\"1.25em\" style=\"font-size: 0.8em; letter-spacing: 1px\">\n",
       "        <textPath xlink:href=\"#arrow-bcd37d70a9774c4ba9557942d5b890e3-0-6\" class=\"displacy-label\" startOffset=\"50%\" side=\"left\" fill=\"currentColor\" text-anchor=\"middle\">case</textPath>\n",
       "    </text>\n",
       "    <path class=\"displacy-arrowhead\" d=\"M1295,179.0 L1287,167.0 1303,167.0\" fill=\"currentColor\"/>\n",
       "</g>\n",
       "\n",
       "<g class=\"displacy-arrow\">\n",
       "    <path class=\"displacy-arc\" id=\"arrow-bcd37d70a9774c4ba9557942d5b890e3-0-7\" stroke-width=\"2px\" d=\"M1120,177.0 C1120,2.0 1450.0,2.0 1450.0,177.0\" fill=\"none\" stroke=\"currentColor\"/>\n",
       "    <text dy=\"1.25em\" style=\"font-size: 0.8em; letter-spacing: 1px\">\n",
       "        <textPath xlink:href=\"#arrow-bcd37d70a9774c4ba9557942d5b890e3-0-7\" class=\"displacy-label\" startOffset=\"50%\" side=\"left\" fill=\"currentColor\" text-anchor=\"middle\">nmod</textPath>\n",
       "    </text>\n",
       "    <path class=\"displacy-arrowhead\" d=\"M1450.0,179.0 L1458.0,167.0 1442.0,167.0\" fill=\"currentColor\"/>\n",
       "</g>\n",
       "</svg>\n",
       "</figure>\n",
       "</body>\n",
       "</html></span>"
      ],
      "text/plain": [
       "<IPython.core.display.HTML object>"
      ]
     },
     "metadata": {},
     "output_type": "display_data"
    },
    {
     "name": "stdout",
     "output_type": "stream",
     "text": [
      "\n",
      "Using the 'dep' visualizer\n",
      "Serving on http://0.0.0.0:5000 ...\n",
      "\n",
      "Shutting down server on port 5000.\n"
     ]
    }
   ],
   "source": [
    "def return_POS(sentence):\n",
    "    # Tokeniser la phrase\n",
    "    doc = nlp(sentence)\n",
    "    # Retourner les étiquettes de chaque token\n",
    "    return [(X, X.pos_) for X in doc]\n",
    "\n",
    "\n",
    "return_POS(test)\n",
    "\n",
    "\n",
    "\n",
    "doc = nlp(test)\n",
    "displacy.serve(doc, style=\"dep\")"
   ]
  },
  {
   "cell_type": "markdown",
   "metadata": {},
   "source": [
    "## 7. Embedding par mot"
   ]
  },
  {
   "cell_type": "code",
   "execution_count": 19,
   "metadata": {},
   "outputs": [
    {
     "data": {
      "text/plain": [
       "[array([-1.6346099 , -0.5649567 , -1.9408679 , -2.813146  , -0.10111822,\n",
       "        -3.530174  ,  2.1561453 , -4.919579  ,  0.32698557,  1.0308661 ,\n",
       "         2.2153058 ,  0.7172387 , -8.715832  , -1.0822319 , -0.29062498,\n",
       "        -1.5783455 , -2.3651779 , -2.728358  , -0.86396784,  0.92594165,\n",
       "        -2.9402206 ,  9.626809  ,  3.6982553 ,  2.3619318 , -3.4923077 ,\n",
       "        -3.007491  ,  0.6268473 ,  0.74501777,  0.10165483, -2.073378  ,\n",
       "        -6.022312  , -3.268891  ,  1.3297336 , -0.02227807,  6.210668  ,\n",
       "         5.510391  , -3.3060744 ,  6.059071  ,  8.359106  ,  1.2666026 ,\n",
       "        -2.4710221 ,  1.2002287 , -2.1460958 ,  1.1080242 , -0.47597623,\n",
       "        -3.48144   , -0.3286002 , -2.6209486 ,  2.7624912 , -3.1821744 ,\n",
       "         0.70762277, -5.4075885 , -0.43672955, -1.1972885 ,  1.9135561 ,\n",
       "        -4.791294  ,  1.8234208 ,  2.8430328 ,  2.995939  , -3.0965562 ,\n",
       "        -0.8349128 ,  0.7072923 , -3.1008275 ,  2.5546198 ,  5.942214  ,\n",
       "        -1.4530498 ,  2.4120169 , -2.190457  , -1.3141768 ,  2.9625702 ,\n",
       "        -3.0723946 , -1.9993814 ,  2.6695242 , -2.2199118 ,  6.693364  ,\n",
       "         4.5680313 ,  1.703071  ,  1.1185465 ,  3.6902947 ,  0.20951815,\n",
       "         1.6912531 ,  1.8172811 ,  0.05466747, -5.0575676 , -2.3284264 ,\n",
       "         6.0243735 , -4.705908  , -2.3805985 ,  4.599189  ,  1.0277064 ,\n",
       "         0.35238388,  1.0811713 , -3.5578234 , -0.7116647 ,  1.4255068 ,\n",
       "        -0.29041106], dtype=float32),\n",
       " array([-3.4463038 , -0.7990986 , -3.415479  ,  1.2070841 , -0.6919837 ,\n",
       "        -0.9731166 ,  1.3672113 , -1.8531281 , -5.894887  ,  2.2831473 ,\n",
       "         4.985729  ,  4.8680706 ,  2.3927836 , -1.9813966 ,  2.3972743 ,\n",
       "        -4.100865  ,  6.5893345 ,  0.2803304 , -1.512512  , -4.2842875 ,\n",
       "        -3.8762722 ,  1.932539  ,  0.11694694, -3.9106565 , 12.73805   ,\n",
       "         1.2966837 , -0.01279044,  1.9929969 , -1.9252101 ,  3.0994427 ,\n",
       "        -3.940071  , -1.6160687 , -4.137141  ,  3.572694  , -0.6361712 ,\n",
       "         0.06652582, -2.776464  , -0.02036446, -5.149591  , -1.7645972 ,\n",
       "         4.1934137 , -1.572477  , -5.103414  , -0.1962012 ,  2.5410576 ,\n",
       "        -6.268387  ,  2.09413   ,  6.4469776 ,  1.0461841 , -2.027321  ,\n",
       "         2.796205  , -3.5149455 , -1.4691505 ,  1.0125775 ,  7.182621  ,\n",
       "        -0.5054708 , -0.31891263, -2.1238437 ,  3.179259  , -1.5041821 ,\n",
       "         6.1768756 , -3.7185333 ,  6.171882  ,  0.53775   , -4.147693  ,\n",
       "         3.0179758 , -0.49276248,  5.1764555 ,  2.3834002 ,  1.2403979 ,\n",
       "        -5.2679143 , -4.2646294 , -1.5016117 ,  1.0483626 , -0.8671224 ,\n",
       "        -3.269269  ,  3.9539583 , -3.0549028 , -3.8951805 ,  0.5888694 ,\n",
       "        -1.0624455 ,  2.315818  , -3.8538585 ,  3.362843  ,  3.257811  ,\n",
       "        -2.9574697 , -1.5970079 , -4.1696854 , -1.4782302 , -1.1335415 ,\n",
       "        -0.143143  , -5.2106314 ,  1.6701655 ,  3.6012955 ,  5.66516   ,\n",
       "         2.6053758 ], dtype=float32),\n",
       " array([ 3.699079  ,  3.8561735 , -2.11811   ,  0.6779078 , -1.0960736 ,\n",
       "        -2.0374298 , -1.137897  , -1.4005859 ,  0.7364915 ,  2.1221232 ,\n",
       "         5.536455  , -4.2395124 ,  0.38929415,  7.956637  , -2.469582  ,\n",
       "        -0.52454656,  0.9417589 , -3.706793  , -5.157954  , -4.7325153 ,\n",
       "        -2.6813097 , -2.0624766 , -8.939568  ,  0.02064908, -2.6285334 ,\n",
       "        -2.1061316 , -3.5901546 ,  8.811838  ,  1.4581071 ,  0.94079024,\n",
       "        -3.853322  ,  5.4884315 ,  5.368439  , -0.30925024, -1.1633195 ,\n",
       "         0.93296576, -1.4564784 , -3.81699   ,  0.8694291 , -0.64289176,\n",
       "        -0.81138945, -6.007785  ,  1.4261637 , -5.5067835 ,  0.17544335,\n",
       "         1.5624584 ,  1.1056354 , -0.5283021 , -1.5959425 , -4.6374164 ,\n",
       "        -1.2511955 , -2.072475  , -2.6776435 ,  2.0384881 , -6.8998013 ,\n",
       "         3.275572  , -3.627523  , -1.1473246 ,  2.0903196 ,  4.1199303 ,\n",
       "         1.329794  ,  8.228798  , -2.6104176 ,  3.5182776 ,  6.781277  ,\n",
       "         1.7338836 , -1.2199423 ,  4.9691277 ,  6.8776045 ,  3.3657818 ,\n",
       "         4.479546  ,  6.684051  ,  1.1967311 ,  0.10996002,  3.5541961 ,\n",
       "        -5.0016947 , -3.258831  ,  2.8553762 , -1.9229144 ,  3.5114639 ,\n",
       "        -1.7918878 , -2.154997  ,  0.42152584,  0.92481637, -1.2664443 ,\n",
       "         1.1551919 , -0.7758826 , -2.880519  , -4.438019  , -1.7678593 ,\n",
       "        -1.8017546 , -1.2383813 ,  2.8813126 , -0.62055004, -1.0536771 ,\n",
       "         2.068698  ], dtype=float32),\n",
       " array([ 4.6719456 , -3.0020971 ,  6.07905   ,  6.8587    , -4.766601  ,\n",
       "         0.6180454 ,  3.2676873 ,  1.9539238 , -3.953971  ,  3.2784615 ,\n",
       "        -1.2397028 ,  0.16048709, -0.9431627 , -0.06638485,  1.9012645 ,\n",
       "        -2.5592554 ,  1.9572815 ,  3.8949966 , -1.6643436 ,  4.002311  ,\n",
       "        -3.4512436 , -1.0303516 ,  0.56368476, -6.195849  , -0.4563378 ,\n",
       "        -0.6065286 , -1.5407808 , -3.9157846 , -3.5041473 , -0.08424675,\n",
       "        -0.7016563 , -0.88107115, -6.220415  , -7.456559  ,  0.23610556,\n",
       "         0.01204261, -4.303651  , -1.4589756 ,  3.8458438 ,  5.662881  ,\n",
       "        -3.5952525 ,  7.0498414 ,  0.11172462, -2.0158267 ,  3.1432362 ,\n",
       "         0.04785451, -4.17737   ,  2.7092578 , -3.9351177 ,  6.0926704 ,\n",
       "         3.5943518 ,  2.7311606 , -4.0540977 ,  1.797646  , -3.7978542 ,\n",
       "         0.17951056, -3.8190103 ,  2.9479384 , -1.673324  , -4.6432323 ,\n",
       "        -6.584801  , -2.7129622 ,  1.0220331 , -0.9797289 , -3.261656  ,\n",
       "        -2.0167255 , -0.3028733 ,  0.3824966 , -0.86501503,  4.5674887 ,\n",
       "        -3.8226833 ,  0.7418498 , -1.421782  ,  6.171268  , -1.099263  ,\n",
       "        -1.1473454 ,  0.30181086,  1.880169  ,  2.7345123 ,  6.960844  ,\n",
       "         4.3294716 , 10.562275  ,  3.422741  , -0.62919   ,  1.9293615 ,\n",
       "        -0.6755444 , -3.0847192 ,  0.5186927 ,  3.103304  , -0.41827205,\n",
       "         1.1435188 ,  4.484579  , -4.0836625 ,  0.4738903 , -1.8039737 ,\n",
       "        -5.860311  ], dtype=float32),\n",
       " array([ 3.8844395 ,  0.06867814, -1.5262814 , -1.1322298 , -0.4349348 ,\n",
       "        -1.7605908 , -6.6598334 , -2.4842014 , -2.043962  , -1.1893754 ,\n",
       "        -0.4388896 , -0.09201145, -0.87102616,  4.851204  , -0.4647696 ,\n",
       "         0.88446885, -0.48043048, -2.5257516 , -3.5051098 ,  5.1575136 ,\n",
       "        -5.6580486 ,  4.9881964 ,  0.3915868 , -0.5735903 ,  0.4990195 ,\n",
       "        -5.027751  , -2.5623114 ,  1.276983  ,  5.2712693 , -3.008836  ,\n",
       "         0.12508166, -1.9428093 ,  1.958293  , -0.7619498 ,  3.6641934 ,\n",
       "         2.0623047 , -5.4035115 , -1.9068811 , -2.3916018 , -3.8070152 ,\n",
       "        -0.9556245 ,  1.9685014 , -0.719069  ,  4.219962  , -0.3570658 ,\n",
       "        -2.103846  , -5.29832   , -4.252282  , -2.4776416 , -2.6689112 ,\n",
       "         0.3501116 ,  0.35189253,  2.199949  , -5.3190236 ,  5.8433685 ,\n",
       "        -1.5004151 , -1.4879115 , -0.4301386 ,  1.5443937 ,  4.543644  ,\n",
       "         0.4031402 , -2.7357044 , -3.5702877 , -0.6564293 ,  8.736288  ,\n",
       "         2.2171192 ,  3.557399  ,  3.044896  , -2.0463586 ,  2.6682649 ,\n",
       "         3.8991728 , -0.07781566,  1.4745038 , -0.19803578,  2.7829905 ,\n",
       "        -0.31798363, -1.2695735 ,  0.6084273 ,  6.4774876 ,  1.359973  ,\n",
       "        -0.55863917,  6.787565  , -1.6447303 , -1.5415627 ,  2.096223  ,\n",
       "         3.9576237 ,  5.938986  , -1.226916  , -3.1881588 , -0.11780128,\n",
       "        -8.0676365 , -0.3074274 ,  5.356364  ,  0.93387187, -3.571735  ,\n",
       "        -2.5482874 ], dtype=float32),\n",
       " array([ 2.4367769 , -1.438296  , -1.9673593 , -2.7462728 ,  3.2222757 ,\n",
       "         2.8968832 ,  4.7056336 ,  4.132722  ,  3.004668  ,  7.608604  ,\n",
       "        -4.132681  ,  1.1154892 ,  1.07357   ,  1.1627638 , -1.7059712 ,\n",
       "        -3.4680727 ,  0.7423906 ,  1.6676711 ,  1.2444571 ,  0.5759427 ,\n",
       "        -3.0088553 ,  0.6729152 ,  5.31914   , -4.0518456 ,  1.1923119 ,\n",
       "         1.8621528 ,  4.1641736 ,  1.0365323 ,  1.9269414 ,  6.042365  ,\n",
       "        -1.921623  , -5.297482  ,  0.18460664, -2.5949483 , -1.4634502 ,\n",
       "        -1.0576887 , -2.075711  , -1.902133  , -5.093585  , -4.460564  ,\n",
       "        -2.9804232 , -3.4414775 , -2.5520973 , -3.226672  ,  3.313815  ,\n",
       "        -1.2516534 , -2.731459  ,  1.3028615 ,  0.6079718 ,  3.400813  ,\n",
       "        -4.817111  ,  1.1798813 , -3.1345432 ,  1.9667069 ,  0.36740375,\n",
       "        -2.2043817 ,  0.09796929,  0.35290724, -5.095642  ,  0.9176158 ,\n",
       "         2.3604174 , -4.2437687 , -3.1990228 , -3.0985055 , -1.0328896 ,\n",
       "        -1.3020376 ,  6.165021  , -0.9437933 ,  4.3133626 , -1.5956932 ,\n",
       "        -0.680079  , -3.7970157 , -2.891483  ,  1.7945098 ,  0.91712993,\n",
       "         1.3663214 ,  2.9683979 , -7.051899  , -6.6702213 , -0.8060204 ,\n",
       "         4.211422  ,  6.8799086 , -1.9864168 , -0.6315143 , -0.474304  ,\n",
       "        -4.0269895 ,  3.0665178 , -2.599577  ,  0.9138967 ,  2.4963434 ,\n",
       "         7.2552233 , -2.6722033 ,  6.4663863 , -1.2249801 ,  6.8101006 ,\n",
       "        -0.7136551 ], dtype=float32),\n",
       " array([-0.71281886,  1.2864192 ,  4.843112  ,  5.956307  ,  3.102618  ,\n",
       "         4.277511  , -0.9239563 ,  5.2369413 ,  0.49013942, -3.940227  ,\n",
       "         0.01835057, -6.2012916 , -1.2329705 ,  1.5355749 , -0.35093427,\n",
       "         1.878427  , -3.7151675 , -5.1567354 , -3.8864164 ,  4.737505  ,\n",
       "         4.1760354 ,  0.4593237 , -2.615333  , -1.4586725 , -1.8218243 ,\n",
       "        -3.666675  , -0.7109444 ,  1.0486394 ,  1.4216716 , -5.4674397 ,\n",
       "         1.1137018 , -0.57797056,  1.9007726 , -3.3905506 ,  6.9927597 ,\n",
       "         3.6616757 , -3.500266  , -2.9357553 , -0.53027713,  0.5007383 ,\n",
       "        -6.5442724 ,  0.8355915 , -0.5582185 ,  0.703251  , -0.414293  ,\n",
       "         5.7528543 , -0.64442724, -3.8223476 , -5.385218  ,  0.1300725 ,\n",
       "         1.4410332 , -0.6382934 ,  0.81237066, -3.4209466 ,  5.5479593 ,\n",
       "        -1.818985  , -1.8579627 , -0.27724946,  2.8789499 ,  3.6988692 ,\n",
       "         0.4859566 , -0.88730276, -3.407817  , -4.3019667 ,  4.21      ,\n",
       "         1.8633635 , -0.76890236, -0.28764927, -1.0263367 ,  2.189707  ,\n",
       "        -1.1714388 ,  1.262855  ,  1.3912535 ,  0.15469915,  4.8181086 ,\n",
       "        -1.0509582 , -1.6547819 , -3.2988057 ,  3.1511304 , -1.1572669 ,\n",
       "        -3.8878465 ,  0.5675974 ,  6.392223  , -3.1427798 ,  0.6538368 ,\n",
       "         5.223604  , -1.9296169 , -0.82367593, -1.8368549 ,  0.25783712,\n",
       "         1.8451169 , -3.3349237 ,  4.0443635 ,  2.4140666 , -0.7107164 ,\n",
       "        -3.7015057 ], dtype=float32),\n",
       " array([ 3.9516954 , -0.9243617 ,  6.6847105 , -1.9463308 ,  2.1386251 ,\n",
       "        -1.1028355 ,  2.405448  ,  5.044589  ,  1.49528   ,  3.8310318 ,\n",
       "         0.09579304, -2.1299012 ,  0.01179433, -4.1749954 , -5.9626837 ,\n",
       "        -4.3676815 ,  5.1296773 ,  2.7336059 ,  5.8014827 , -1.0465479 ,\n",
       "        -3.7199178 ,  7.8580084 ,  1.3486929 , -4.517937  ,  1.3701854 ,\n",
       "         0.02235025,  2.4368808 , -1.6840771 ,  1.6854804 ,  2.901785  ,\n",
       "        -3.0916996 , -3.096771  ,  0.3510399 , -1.0790484 ,  3.873661  ,\n",
       "        -2.7462378 , -2.2984529 , -2.3679204 , -1.2041503 ,  1.0650164 ,\n",
       "        -2.3520792 , -1.3494048 , -2.5329564 , -5.2498426 ,  2.8210428 ,\n",
       "         4.19211   , -4.3621035 ,  1.1619576 , -1.367235  ,  2.9710202 ,\n",
       "        -6.9059005 ,  2.279132  , -3.900731  ,  3.49933   ,  3.2068589 ,\n",
       "        -2.4541204 , -1.9978758 , -2.3840718 ,  1.4514394 , -1.9827539 ,\n",
       "         2.1664393 , -1.0207181 , -4.988575  , -2.4155605 , -4.597704  ,\n",
       "         2.8684206 ,  6.404394  , -0.31066447,  3.6817462 , -3.0194838 ,\n",
       "        -4.5074606 , -0.5458549 , -1.9918635 , -2.3353846 ,  0.7457042 ,\n",
       "         2.4733596 ,  2.1848931 , -5.376006  , -0.24587226, -2.7139263 ,\n",
       "         3.1572287 ,  3.703524  , -1.8802764 ,  1.1018648 ,  1.8107228 ,\n",
       "        -3.529293  ,  2.7398725 , -0.8516607 , -1.7181722 ,  5.8709087 ,\n",
       "        -1.224086  , -2.5882635 ,  5.7999954 , -0.27816442,  1.9952829 ,\n",
       "        -1.6218436 ], dtype=float32),\n",
       " array([-5.53355   ,  3.0383685 , -0.3287083 ,  1.9554517 ,  1.2519956 ,\n",
       "         4.736682  ,  4.580493  ,  2.8247619 , -2.9584196 ,  0.69274783,\n",
       "         2.1940198 , -3.7785516 , -0.8964797 ,  2.076565  , -4.5145073 ,\n",
       "         1.5383459 , -1.4205503 ,  0.38169533, -3.2419293 , -1.8331208 ,\n",
       "        -4.744351  ,  4.239533  ,  1.1778755 , -0.77064216, -4.363778  ,\n",
       "        -4.8543005 ,  2.8069193 , -0.01323475, -2.2096577 , -2.6689694 ,\n",
       "        -4.1420984 ,  0.22563553, -5.5890284 , -3.0044837 ,  6.482897  ,\n",
       "         8.461988  ,  1.1623026 ,  5.6293325 , -2.4654765 ,  1.6803739 ,\n",
       "        -1.6412318 ,  4.6212277 ,  3.4876227 , -0.54574037, -5.9794273 ,\n",
       "         4.720708  , -0.42368114, -3.0663748 , -2.5089786 ,  1.5423009 ,\n",
       "        -4.237906  ,  2.4997244 , -1.8763932 , -2.3545337 ,  5.0183516 ,\n",
       "        -3.500544  , -2.3442903 ,  4.4571495 ,  3.169293  , -1.3176515 ,\n",
       "        -0.45621204, -1.0530587 , -1.9781387 ,  2.1263235 ,  5.278645  ,\n",
       "         2.6089773 ,  3.888268  ,  1.1396751 , -1.9047017 , -0.84826607,\n",
       "        -3.5199895 ,  0.78924143,  4.3547125 , -5.374195  ,  2.2793865 ,\n",
       "         0.13687897, -4.5882616 , -0.3140411 ,  2.4338036 , -2.6277685 ,\n",
       "         2.6337264 , -0.3514197 ,  1.0420989 , -5.5532603 , -2.2303262 ,\n",
       "         4.0933466 , -6.1292243 ,  3.7890162 ,  0.3709822 ,  2.2004616 ,\n",
       "        -0.5825119 , -5.453079  , -0.39507705, -1.048804  ,  3.6503246 ,\n",
       "         2.6507647 ], dtype=float32)]"
      ]
     },
     "execution_count": 19,
     "metadata": {},
     "output_type": "execute_result"
    }
   ],
   "source": [
    "import numpy as np\n",
    "\n",
    "def return_word_embedding(sentence):\n",
    "\n",
    "    # Tokeniser la phrase\n",
    "    doc = nlp(sentence)\n",
    "    # Retourner le vecteur lié à chaque token\n",
    "\n",
    "    return [(X.vector) for X in doc]\n",
    "\n",
    "return_word_embedding(test)"
   ]
  },
  {
   "cell_type": "markdown",
   "metadata": {},
   "source": [
    "## 8. Similarité entre phrases"
   ]
  },
  {
   "cell_type": "code",
   "execution_count": 20,
   "metadata": {},
   "outputs": [],
   "source": [
    "def return_mean_embedding(sentence):\n",
    "    # Tokeniser la phrase\n",
    "    doc = nlp(sentence)\n",
    "    # Retourner la moyenne des vecteurs pour chaque phrase\n",
    "    return np.mean([(X.vector) for X in doc], axis=0)\n",
    "\n",
    "\n",
    "test_2 = \"Le réseau sera bientot rétabli à Marseille\"\n",
    "\n",
    "test_3 = \"La panne réseau affecte plusieurs utilisateurs del'opérateur\"\n",
    "test_4 = \"Il fait 18 degrés ici\"\n",
    "\n"
   ]
  },
  {
   "cell_type": "code",
   "execution_count": 21,
   "metadata": {},
   "outputs": [
    {
     "name": "stdout",
     "output_type": "stream",
     "text": [
      "Norme de la différence entre test et test_2: 13.324599\n",
      "Norme de la différence entre test et test_3: 12.17234\n",
      "Norme de la différence entre test et test_4: 20.493286\n"
     ]
    }
   ],
   "source": [
    "def return_mean_embedding(sentence):\n",
    "    doc = nlp(sentence)\n",
    "    return np.mean([token.vector for token in doc], axis=0)\n",
    "\n",
    "test_2 = \"Le réseau sera bientôt rétabli à Marseille\"\n",
    "test_3 = \"La panne réseau affecte plusieurs utilisateurs de l'opérateur\"\n",
    "test_4 = \"Il fait 18 degrés ici\"\n",
    "\n",
    "# Calcul des embeddings pour chaque phrase\n",
    "embedding_test = return_mean_embedding(test)\n",
    "embedding_test_2 = return_mean_embedding(test_2)\n",
    "embedding_test_3 = return_mean_embedding(test_3)\n",
    "embedding_test_4 = return_mean_embedding(test_4)\n",
    "\n",
    "# Calcul de la norme de la différence entre les embeddings\n",
    "norm_diff_2 = np.linalg.norm(embedding_test - embedding_test_2)\n",
    "norm_diff_3 = np.linalg.norm(embedding_test - embedding_test_3)\n",
    "norm_diff_4 = np.linalg.norm(embedding_test - embedding_test_4)\n",
    "\n",
    "# Affichage des résultats\n",
    "print(\"Norme de la différence entre test et test_2:\", norm_diff_2)\n",
    "print(\"Norme de la différence entre test et test_3:\", norm_diff_3)\n",
    "print(\"Norme de la différence entre test et test_4:\", norm_diff_4)\n"
   ]
  },
  {
   "cell_type": "markdown",
   "metadata": {},
   "source": [
    "## 9. Transformers"
   ]
  },
  {
   "cell_type": "code",
   "execution_count": 23,
   "metadata": {},
   "outputs": [
    {
     "name": "stdout",
     "output_type": "stream",
     "text": [
      "Requirement already satisfied: torch in c:\\users\\rymkm\\anaconda3\\lib\\site-packages (2.2.2)\n",
      "Requirement already satisfied: filelock in c:\\users\\rymkm\\anaconda3\\lib\\site-packages (from torch) (3.9.0)\n",
      "Requirement already satisfied: typing-extensions>=4.8.0 in c:\\users\\rymkm\\anaconda3\\lib\\site-packages (from torch) (4.10.0)\n",
      "Requirement already satisfied: sympy in c:\\users\\rymkm\\anaconda3\\lib\\site-packages (from torch) (1.11.1)\n",
      "Requirement already satisfied: networkx in c:\\users\\rymkm\\anaconda3\\lib\\site-packages (from torch) (3.1)\n",
      "Requirement already satisfied: jinja2 in c:\\users\\rymkm\\anaconda3\\lib\\site-packages (from torch) (3.1.2)\n",
      "Requirement already satisfied: fsspec in c:\\users\\rymkm\\anaconda3\\lib\\site-packages (from torch) (2023.3.0)\n",
      "Requirement already satisfied: MarkupSafe>=2.0 in c:\\users\\rymkm\\anaconda3\\lib\\site-packages (from jinja2->torch) (2.1.1)\n",
      "Requirement already satisfied: mpmath>=0.19 in c:\\users\\rymkm\\anaconda3\\lib\\site-packages (from sympy->torch) (1.3.0)\n"
     ]
    }
   ],
   "source": [
    "import torch\n",
    "from transformers import *\n"
   ]
  },
  {
   "cell_type": "code",
   "execution_count": 24,
   "metadata": {},
   "outputs": [
    {
     "data": {
      "text/plain": [
       "BertForNextSentencePrediction(\n",
       "  (bert): BertModel(\n",
       "    (embeddings): BertEmbeddings(\n",
       "      (word_embeddings): Embedding(119547, 768, padding_idx=0)\n",
       "      (position_embeddings): Embedding(512, 768)\n",
       "      (token_type_embeddings): Embedding(2, 768)\n",
       "      (LayerNorm): LayerNorm((768,), eps=1e-12, elementwise_affine=True)\n",
       "      (dropout): Dropout(p=0.1, inplace=False)\n",
       "    )\n",
       "    (encoder): BertEncoder(\n",
       "      (layer): ModuleList(\n",
       "        (0-11): 12 x BertLayer(\n",
       "          (attention): BertAttention(\n",
       "            (self): BertSelfAttention(\n",
       "              (query): Linear(in_features=768, out_features=768, bias=True)\n",
       "              (key): Linear(in_features=768, out_features=768, bias=True)\n",
       "              (value): Linear(in_features=768, out_features=768, bias=True)\n",
       "              (dropout): Dropout(p=0.1, inplace=False)\n",
       "            )\n",
       "            (output): BertSelfOutput(\n",
       "              (dense): Linear(in_features=768, out_features=768, bias=True)\n",
       "              (LayerNorm): LayerNorm((768,), eps=1e-12, elementwise_affine=True)\n",
       "              (dropout): Dropout(p=0.1, inplace=False)\n",
       "            )\n",
       "          )\n",
       "          (intermediate): BertIntermediate(\n",
       "            (dense): Linear(in_features=768, out_features=3072, bias=True)\n",
       "          )\n",
       "          (output): BertOutput(\n",
       "            (dense): Linear(in_features=3072, out_features=768, bias=True)\n",
       "            (LayerNorm): LayerNorm((768,), eps=1e-12, elementwise_affine=True)\n",
       "            (dropout): Dropout(p=0.1, inplace=False)\n",
       "          )\n",
       "        )\n",
       "      )\n",
       "    )\n",
       "    (pooler): BertPooler(\n",
       "      (dense): Linear(in_features=768, out_features=768, bias=True)\n",
       "      (activation): Tanh()\n",
       "    )\n",
       "  )\n",
       "  (cls): BertOnlyNSPHead(\n",
       "    (seq_relationship): Linear(in_features=768, out_features=2, bias=True)\n",
       "  )\n",
       ")"
      ]
     },
     "execution_count": 24,
     "metadata": {},
     "output_type": "execute_result"
    }
   ],
   "source": [
    "# Tokeniser, Model\n",
    "\n",
    "tokenizer = BertTokenizer.from_pretrained('bert-base-multilingual-cased')\n",
    "\n",
    "model = BertForNextSentencePrediction.from_pretrained('bert-base-multilingual-cased')\n",
    "\n",
    "model.eval()"
   ]
  },
  {
   "cell_type": "code",
   "execution_count": 25,
   "metadata": {},
   "outputs": [],
   "source": [
    "text = \"Comment ça va ? Bien merci, un peu stressé avantl'examen\"\n",
    "# Texte tokenisé\n",
    "tokenized_text = tokenizer.tokenize(text)\n",
    "# Convertir le texte en indexs\n",
    "indexed_tokens = tokenizer.convert_tokens_to_ids(tokenized_text)\n",
    "segments_ids = [0, 0, 0, 0, 0, 1, 1, 1, 1, 1, 1, 1, 1, 1, 1]"
   ]
  },
  {
   "cell_type": "code",
   "execution_count": 28,
   "metadata": {},
   "outputs": [
    {
     "name": "stdout",
     "output_type": "stream",
     "text": [
      "Suite\n"
     ]
    }
   ],
   "source": [
    "import torch\n",
    "from transformers import BertTokenizer, BertForNextSentencePrediction\n",
    "\n",
    "# Charger le tokenizer et le modèle BERT\n",
    "tokenizer = BertTokenizer.from_pretrained('bert-base-multilingual-cased')\n",
    "model = BertForNextSentencePrediction.from_pretrained('bert-base-multilingual-cased')\n",
    "model.eval()\n",
    "\n",
    "# Texte à traiter\n",
    "text = \"Comment ça va ? Bien merci, un peu stressé avant l'examen\"\n",
    "\n",
    "# Tokenisation du texte\n",
    "tokenized_text = tokenizer.tokenize(text)\n",
    "\n",
    "# Conversion en indexs\n",
    "indexed_tokens = tokenizer.convert_tokens_to_ids(tokenized_text)\n",
    "segments_ids = [0, 0, 0, 0, 0, 1, 1, 1, 1, 1, 1, 1, 1, 1, 1]\n",
    "\n",
    "# Conversion en tenseurs\n",
    "tokens_tensor = torch.tensor([indexed_tokens])\n",
    "segments_tensors = torch.tensor([segments_ids])\n",
    "\n",
    "# Prédiction\n",
    "predictions = model(tokens_tensor, segments_tensors)\n",
    "\n",
    "# Accéder à l'élément approprié du tuple contenant les logits\n",
    "logits = predictions[0]  # Par exemple, si les logits sont dans le premier élément du tuple\n",
    "\n",
    "# Déterminer si la deuxième phrase est la suite de la première\n",
    "if torch.argmax(logits) == 0:\n",
    "    print(\"Suite\")\n",
    "else:\n",
    "    print(\"Pas la suite\")\n",
    "\n"
   ]
  }
 ],
 "metadata": {
  "kernelspec": {
   "display_name": "base",
   "language": "python",
   "name": "python3"
  },
  "language_info": {
   "codemirror_mode": {
    "name": "ipython",
    "version": 3
   },
   "file_extension": ".py",
   "mimetype": "text/x-python",
   "name": "python",
   "nbconvert_exporter": "python",
   "pygments_lexer": "ipython3",
   "version": "3.11.4"
  }
 },
 "nbformat": 4,
 "nbformat_minor": 2
}
